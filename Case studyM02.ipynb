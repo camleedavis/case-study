{
 "cells": [
  {
   "cell_type": "code",
   "execution_count": 29,
   "metadata": {},
   "outputs": [
    {
     "name": "stdout",
     "output_type": "stream",
     "text": [
      "CamronDavis has made the Honor Roll.\n"
     ]
    }
   ],
   "source": [
    "#camron davis\n",
    "#a Python app that will accept student names and GPAs and test if the student qualifies for either the Dean's List or the Honor Roll.\n",
    "last_name = input(\"Enter Students Last name or ZZZ to quit\")\n",
    "if last_name == \"ZZZ\":\n",
    "    print(\"goodbye\")\n",
    "else:\n",
    "   first_name = input(\"Enter students first name\")\n",
    "   gpa = float(input(\"please enter the gpa\"))\n",
    "\n",
    "   if gpa >= 3.5:\n",
    "         print(first_name + last_name + \" has made the Dean's List.\")\n",
    "   elif gpa >= 3.25:\n",
    "         print(first_name + last_name + \" has made the Honor Roll.\")\n"
   ]
  }
 ],
 "metadata": {
  "kernelspec": {
   "display_name": "Python 3.10.4 64-bit",
   "language": "python",
   "name": "python3"
  },
  "language_info": {
   "codemirror_mode": {
    "name": "ipython",
    "version": 3
   },
   "file_extension": ".py",
   "mimetype": "text/x-python",
   "name": "python",
   "nbconvert_exporter": "python",
   "pygments_lexer": "ipython3",
   "version": "3.10.4"
  },
  "orig_nbformat": 4,
  "vscode": {
   "interpreter": {
    "hash": "a4aa89f266848f75d0837ed2d1796eabdfce5d91b5128ba21975ab4cd6feaafd"
   }
  }
 },
 "nbformat": 4,
 "nbformat_minor": 2
}
